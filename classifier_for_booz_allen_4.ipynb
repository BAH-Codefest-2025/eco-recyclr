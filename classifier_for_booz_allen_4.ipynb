{
  "nbformat": 4,
  "nbformat_minor": 0,
  "metadata": {
    "colab": {
      "provenance": [],
      "machine_shape": "hm",
      "gpuType": "A100",
      "authorship_tag": "ABX9TyOVhliPvCuD9BvFe2PhJO2h",
      "include_colab_link": true
    },
    "kernelspec": {
      "name": "python3",
      "display_name": "Python 3"
    },
    "language_info": {
      "name": "python"
    },
    "accelerator": "GPU"
  },
  "cells": [
    {
      "cell_type": "markdown",
      "metadata": {
        "id": "view-in-github",
        "colab_type": "text"
      },
      "source": [
        "<a href=\"https://colab.research.google.com/github/limi900/BoozAllen/blob/model-branch/classifier_for_booz_allen_4.ipynb\" target=\"_parent\"><img src=\"https://colab.research.google.com/assets/colab-badge.svg\" alt=\"Open In Colab\"/></a>"
      ]
    },
    {
      "cell_type": "code",
      "source": [
        "import torch"
      ],
      "metadata": {
        "id": "m6uqXKLhwGj-"
      },
      "execution_count": 1,
      "outputs": []
    },
    {
      "cell_type": "code",
      "execution_count": 2,
      "metadata": {
        "id": "3bPqzjhneWD-"
      },
      "outputs": [],
      "source": [
        "from PIL import Image\n",
        "import matplotlib.pyplot as plt\n",
        "import os\n",
        "import torch.nn as nn\n",
        "import torch.optim as optim\n",
        "from torch.utils.data import DataLoader\n",
        "from torchvision import datasets, transforms, models\n",
        "import torch.nn.functional as F"
      ]
    },
    {
      "cell_type": "code",
      "source": [
        "!git clone https://github.com/limi900/BoozAllen.git"
      ],
      "metadata": {
        "colab": {
          "base_uri": "https://localhost:8080/"
        },
        "id": "N7Pv62o6ecrv",
        "outputId": "dadc7421-3246-4b21-86cf-424c3d983f8c"
      },
      "execution_count": 3,
      "outputs": [
        {
          "output_type": "stream",
          "name": "stdout",
          "text": [
            "Cloning into 'BoozAllen'...\n",
            "remote: Enumerating objects: 19930, done.\u001b[K\n",
            "remote: Counting objects: 100% (148/148), done.\u001b[K\n",
            "remote: Compressing objects: 100% (120/120), done.\u001b[K\n",
            "remote: Total 19930 (delta 42), reused 124 (delta 21), pack-reused 19782 (from 2)\u001b[K\n",
            "Receiving objects: 100% (19930/19930), 741.21 MiB | 62.73 MiB/s, done.\n",
            "Resolving deltas: 100% (44/44), done.\n",
            "Updating files: 100% (19780/19780), done.\n"
          ]
        }
      ]
    },
    {
      "cell_type": "code",
      "source": [
        "os.chdir('/content/BoozAllen/garbage-dataset')"
      ],
      "metadata": {
        "id": "cSjM7Kqoecb3"
      },
      "execution_count": 4,
      "outputs": []
    },
    {
      "cell_type": "code",
      "source": [
        "# Step 1: Define Transformations (Data Preprocessing)\n",
        "transform_train = transforms.Compose([\n",
        "    transforms.Resize((128, 128)),  # Resize images to 128x128\n",
        "    transforms.ToTensor(),  # Convert the image to a tensor\n",
        "    transforms.Normalize(mean=[0.485, 0.456, 0.406], std=[0.229, 0.224, 0.225])  # ImageNet normalization\n",
        "])"
      ],
      "metadata": {
        "id": "iAul_7DtehNB"
      },
      "execution_count": 8,
      "outputs": []
    },
    {
      "cell_type": "code",
      "source": [
        "transform_test = transforms.Compose([\n",
        "    transforms.Resize((128, 128)),  # Resize to 128x128\n",
        "    transforms.ToTensor(),\n",
        "    transforms.Normalize(mean=[0.485, 0.456, 0.406], std=[0.229, 0.224, 0.225])\n",
        "])"
      ],
      "metadata": {
        "id": "yvCcYjNmehGP"
      },
      "execution_count": 6,
      "outputs": []
    },
    {
      "cell_type": "code",
      "source": [
        "path = '/content/BoozAllen/garbage-dataset'\n",
        "\n",
        "dataset = datasets.ImageFolder(root = path, transform = transform_train)\n",
        "num_elements = len(dataset)\n",
        "\n",
        "# we shuffle elements in the dataset because ImageFolder just collected them without shuffling\n",
        "new_positions = torch.randperm(num_elements).tolist()\n",
        "shuffled_dataset = torch.utils.data.Subset(dataset, new_positions)\n",
        "\n",
        "# We split the data in trainining and testing\n",
        "training_percent = 0.8\n",
        "training_data_size = int(training_percent * num_elements)  # 80% for training\n",
        "testing_data_size = num_elements - training_data_size  # 20% for validation\n",
        "training_data, testing_data = torch.utils.data.random_split(dataset, [training_data_size, testing_data_size])\n",
        "\n",
        "# we create dataLoaders for both training and testing\n",
        "train_loader = DataLoader(training_data, batch_size=32, shuffle=True)\n",
        "test_loader = DataLoader(testing_data, batch_size=32, shuffle=True)"
      ],
      "metadata": {
        "id": "04hrqCPsfzX6"
      },
      "execution_count": 9,
      "outputs": []
    },
    {
      "cell_type": "code",
      "source": [
        "model = models.resnet18(pretrained=True)\n",
        "\n",
        "# Modify the final fully connected layer to match the number of classes (e.g., 10 classes for garbage classification)\n",
        "num_classes = 10  # Change this based on your dataset's number of classes\n",
        "model.fc = nn.Linear(model.fc.in_features, num_classes)"
      ],
      "metadata": {
        "id": "a4h-TZ98eg83",
        "colab": {
          "base_uri": "https://localhost:8080/"
        },
        "outputId": "c04a211f-6cf6-48e9-d392-bad782d3c324"
      },
      "execution_count": 10,
      "outputs": [
        {
          "output_type": "stream",
          "name": "stderr",
          "text": [
            "/usr/local/lib/python3.11/dist-packages/torchvision/models/_utils.py:208: UserWarning: The parameter 'pretrained' is deprecated since 0.13 and may be removed in the future, please use 'weights' instead.\n",
            "  warnings.warn(\n",
            "/usr/local/lib/python3.11/dist-packages/torchvision/models/_utils.py:223: UserWarning: Arguments other than a weight enum or `None` for 'weights' are deprecated since 0.13 and may be removed in the future. The current behavior is equivalent to passing `weights=ResNet18_Weights.IMAGENET1K_V1`. You can also use `weights=ResNet18_Weights.DEFAULT` to get the most up-to-date weights.\n",
            "  warnings.warn(msg)\n",
            "Downloading: \"https://download.pytorch.org/models/resnet18-f37072fd.pth\" to /root/.cache/torch/hub/checkpoints/resnet18-f37072fd.pth\n",
            "100%|██████████| 44.7M/44.7M [00:00<00:00, 176MB/s]\n"
          ]
        }
      ]
    },
    {
      "cell_type": "code",
      "source": [
        "# Set up device (CUDA or CPU)\n",
        "device = \"cuda\" if torch.cuda.is_available() else \"cpu\"\n",
        "print(f\"Using device: {device}\")\n",
        "\n",
        "# Step 5: Move Model to Device (GPU if available, otherwise CPU)\n",
        "device = \"cuda\" if torch.cuda.is_available() else \"cpu\"\n",
        "model.to(device)\n",
        "\n",
        "# Step 6: Define Loss Function and Optimizer\n",
        "criterion = nn.CrossEntropyLoss()  # For multi-class classification\n",
        "optimizer = torch.optim.Adam(model.parameters(), lr=0.001)  # Adam optimizer"
      ],
      "metadata": {
        "colab": {
          "base_uri": "https://localhost:8080/"
        },
        "id": "cvDoAcCReymO",
        "outputId": "497587de-3b0e-4609-da5a-25d1b9b0d602"
      },
      "execution_count": 11,
      "outputs": [
        {
          "output_type": "stream",
          "name": "stdout",
          "text": [
            "Using device: cuda\n"
          ]
        }
      ]
    },
    {
      "cell_type": "code",
      "source": [
        "num_epochs = 10  # You can adjust this based on convergence\n",
        "\n",
        "for epoch in range(num_epochs):\n",
        "    model.train()  # Set model to training mode\n",
        "    running_loss = 0.0\n",
        "\n",
        "    for images, labels in train_loader:\n",
        "        images, labels = images.to(device), labels.to(device)\n",
        "\n",
        "        optimizer.zero_grad()  # Zero the gradients\n",
        "        outputs = model(images)  # Forward pass\n",
        "        loss = criterion(outputs, labels)  # Compute loss\n",
        "        loss.backward()  # Backpropagate the error\n",
        "        optimizer.step()  # Update weights\n",
        "\n",
        "        running_loss += loss.item()\n",
        "\n",
        "    avg_loss = running_loss / len(train_loader)\n",
        "    print(f\"Epoch [{epoch+1}/{num_epochs}], Loss: {avg_loss:.4f}\")\n",
        "\n",
        "print(\"Training complete!\")"
      ],
      "metadata": {
        "colab": {
          "base_uri": "https://localhost:8080/"
        },
        "id": "LllhLWAfe2wH",
        "outputId": "865ac00c-988a-4c1a-f0ca-d80ed52d36fe"
      },
      "execution_count": 12,
      "outputs": [
        {
          "output_type": "stream",
          "name": "stdout",
          "text": [
            "Epoch [1/10], Loss: 0.7787\n",
            "Epoch [2/10], Loss: 0.4902\n",
            "Epoch [3/10], Loss: 0.3832\n",
            "Epoch [4/10], Loss: 0.3018\n",
            "Epoch [5/10], Loss: 0.2210\n",
            "Epoch [6/10], Loss: 0.1942\n",
            "Epoch [7/10], Loss: 0.1777\n",
            "Epoch [8/10], Loss: 0.1376\n",
            "Epoch [9/10], Loss: 0.1353\n",
            "Epoch [10/10], Loss: 0.0968\n",
            "Training complete!\n"
          ]
        }
      ]
    },
    {
      "cell_type": "code",
      "source": [
        "model.eval()  # Set model to evaluation mode (disables dropout, batchnorm)\n",
        "\n",
        "correct = 0\n",
        "total = 0\n",
        "\n",
        "with torch.no_grad():  # No need to compute gradients during evaluation\n",
        "    for images, labels in test_loader:\n",
        "        images, labels = images.to(device), labels.to(device)\n",
        "        outputs = model(images)\n",
        "        _, predicted = torch.max(outputs, 1)  # Get the class with highest probability\n",
        "        total += labels.size(0)\n",
        "        correct += (predicted == labels).sum().item()\n",
        "\n",
        "accuracy = 100 * correct / total\n",
        "print(f'Accuracy on test data: {accuracy:.2f}%')"
      ],
      "metadata": {
        "colab": {
          "base_uri": "https://localhost:8080/"
        },
        "id": "rBiWEaR5e5lz",
        "outputId": "0d706f15-e3dc-4679-90a1-037605243349"
      },
      "execution_count": 13,
      "outputs": [
        {
          "output_type": "stream",
          "name": "stdout",
          "text": [
            "Accuracy on test data: 86.21%\n"
          ]
        }
      ]
    },
    {
      "cell_type": "code",
      "source": [
        "# Evaluate accuracy on the training data\n",
        "model.eval()  # Set model to evaluation mode (disables dropout, batchnorm)\n",
        "\n",
        "correct_train = 0\n",
        "total_train = 0\n",
        "\n",
        "with torch.no_grad():  # No need to compute gradients during evaluation\n",
        "    for images, labels in train_loader:\n",
        "        images, labels = images.to(device), labels.to(device)\n",
        "        outputs = model(images)\n",
        "        _, predicted = torch.max(outputs, 1)  # Get the class with highest probability\n",
        "        total_train += labels.size(0)\n",
        "        correct_train += (predicted == labels).sum().item()\n",
        "\n",
        "train_accuracy = 100 * correct_train / total_train\n",
        "print(f'Accuracy on training data: {train_accuracy:.2f}%')"
      ],
      "metadata": {
        "colab": {
          "base_uri": "https://localhost:8080/"
        },
        "id": "meZRRNFxe-Xj",
        "outputId": "0b299d85-cb36-4e5a-ffe9-419e05b000db"
      },
      "execution_count": 14,
      "outputs": [
        {
          "output_type": "stream",
          "name": "stdout",
          "text": [
            "Accuracy on training data: 97.76%\n"
          ]
        }
      ]
    },
    {
      "cell_type": "code",
      "source": [
        "print(os.getcwd())  # Prints the current working directory\n",
        "os.chdir('..')\n",
        "print(os.getcwd())"
      ],
      "metadata": {
        "colab": {
          "base_uri": "https://localhost:8080/"
        },
        "id": "yaMP2pfN467W",
        "outputId": "70f022a2-cbf7-4a77-fdc0-36d88c282320"
      },
      "execution_count": 18,
      "outputs": [
        {
          "output_type": "stream",
          "name": "stdout",
          "text": [
            "/content/BoozAllen/garbage-dataset\n",
            "/content/BoozAllen\n"
          ]
        }
      ]
    },
    {
      "cell_type": "code",
      "source": [
        "# Save the model\n",
        "model_dir = 'ml-model-training'\n",
        "if not os.path.exists(model_dir):\n",
        "    os.makedirs(model_dir)\n",
        "\n",
        "\n",
        "model_path = os.path.join(model_dir, 'garbage_classifier_resnet.pth')\n",
        "torch.save(model.state_dict(), model_path)\n"
      ],
      "metadata": {
        "id": "Y2jIxQaO24WP"
      },
      "execution_count": 21,
      "outputs": []
    },
    {
      "cell_type": "code",
      "source": [
        "!ls"
      ],
      "metadata": {
        "colab": {
          "base_uri": "https://localhost:8080/"
        },
        "id": "hXSNXxDs5T_F",
        "outputId": "3824caf5-a355-44d0-d583-248e6d3ef847"
      },
      "execution_count": 22,
      "outputs": [
        {
          "output_type": "stream",
          "name": "stdout",
          "text": [
            "BoozAllen.ipynb  eco-recyclr  garbage-dataset  ml-model-training  README.md\n"
          ]
        }
      ]
    },
    {
      "cell_type": "code",
      "source": [
        "!git config --global user.name \"Chris Dollo\"\n",
        "!git config --global user.email \"dollochrisdavid@gmail.com\""
      ],
      "metadata": {
        "id": "N2ttT6ii7bAg"
      },
      "execution_count": 33,
      "outputs": []
    },
    {
      "cell_type": "code",
      "source": [
        "!git status"
      ],
      "metadata": {
        "colab": {
          "base_uri": "https://localhost:8080/"
        },
        "id": "ak2hpXXz6EpL",
        "outputId": "53d23fb9-28bc-4532-9557-2d1b07bdcca6"
      },
      "execution_count": 34,
      "outputs": [
        {
          "output_type": "stream",
          "name": "stdout",
          "text": [
            "On branch model-branch\n",
            "nothing to commit, working tree clean\n"
          ]
        }
      ]
    },
    {
      "cell_type": "code",
      "source": [
        "!git checkout -b model-branch"
      ],
      "metadata": {
        "colab": {
          "base_uri": "https://localhost:8080/"
        },
        "id": "3GDavu0h6OCH",
        "outputId": "fb1733d9-ff72-4119-fc14-bb2d2e24bb82"
      },
      "execution_count": 35,
      "outputs": [
        {
          "output_type": "stream",
          "name": "stdout",
          "text": [
            "fatal: A branch named 'model-branch' already exists.\n"
          ]
        }
      ]
    },
    {
      "cell_type": "code",
      "source": [
        "!git add .\n",
        "!git commit -m \"added the ml model\"\n",
        "!git push origin model-branch"
      ],
      "metadata": {
        "colab": {
          "base_uri": "https://localhost:8080/"
        },
        "id": "Dlz441QB6ZuW",
        "outputId": "bd61891d-d79a-4541-9007-3d630062a645"
      },
      "execution_count": 44,
      "outputs": [
        {
          "output_type": "stream",
          "name": "stdout",
          "text": [
            "On branch model-branch\n",
            "nothing to commit, working tree clean\n",
            "Enumerating objects: 5, done.\n",
            "Counting objects: 100% (5/5), done.\n",
            "Delta compression using up to 12 threads\n",
            "Compressing objects: 100% (4/4), done.\n",
            "Writing objects: 100% (4/4), 39.61 MiB | 10.90 MiB/s, done.\n",
            "Total 4 (delta 1), reused 0 (delta 0), pack-reused 0\n",
            "remote: Resolving deltas: 100% (1/1), completed with 1 local object.\u001b[K\n",
            "remote: \n",
            "remote: Create a pull request for 'model-branch' on GitHub by visiting:\u001b[K\n",
            "remote:      https://github.com/limi900/BoozAllen/pull/new/model-branch\u001b[K\n",
            "remote: \n",
            "To github.com:limi900/BoozAllen.git\n",
            " * [new branch]        model-branch -> model-branch\n"
          ]
        }
      ]
    },
    {
      "cell_type": "code",
      "source": [
        "!ssh-keygen -t rsa -b 4096 -C \"you@example.com\""
      ],
      "metadata": {
        "colab": {
          "base_uri": "https://localhost:8080/"
        },
        "id": "QLH43neb6mJV",
        "outputId": "853c2bc0-9e4b-4271-e73c-ca7f4b5a7952"
      },
      "execution_count": 37,
      "outputs": [
        {
          "output_type": "stream",
          "name": "stdout",
          "text": [
            "Generating public/private rsa key pair.\n",
            "Enter file in which to save the key (/root/.ssh/id_rsa): \n",
            "Created directory '/root/.ssh'.\n",
            "Enter passphrase (empty for no passphrase): \n",
            "Enter same passphrase again: \n",
            "Your identification has been saved in /root/.ssh/id_rsa\n",
            "Your public key has been saved in /root/.ssh/id_rsa.pub\n",
            "The key fingerprint is:\n",
            "SHA256:UySTaeMelDv/tPX8jaAc4yC+YepIKKVc93+may/C55A you@example.com\n",
            "The key's randomart image is:\n",
            "+---[RSA 4096]----+\n",
            "|        o+.      |\n",
            "|        B+       |\n",
            "|       + o.      |\n",
            "|        =.       |\n",
            "|  .. . .S+       |\n",
            "|.+. . . o.. . .  |\n",
            "|+..   =E. oo.o o |\n",
            "|.. . + =oB *o. .+|\n",
            "|  ..o o.==@.  . +|\n",
            "+----[SHA256]-----+\n"
          ]
        }
      ]
    },
    {
      "cell_type": "code",
      "source": [
        "!cat ~/.ssh/id_rsa.pub\n"
      ],
      "metadata": {
        "colab": {
          "base_uri": "https://localhost:8080/"
        },
        "id": "AjHRohUg8sp7",
        "outputId": "ca0c1e1d-31e4-475e-93e8-7ec13f20083b"
      },
      "execution_count": 38,
      "outputs": [
        {
          "output_type": "stream",
          "name": "stdout",
          "text": [
            "ssh-rsa AAAAB3NzaC1yc2EAAAADAQABAAACAQDG+MOmlrKwug+ha9uCsrJEv863dECfn5TQFbxtCiUUKt/TcuuB7xeUy4VGjiAVQ3rpU7v4C3kcgS0kTnAL/6XdoSDyuMmaJZFXnxs927iM+LuiM0XVV/1WBtBeh0Tjf9JtgU8vC2Alk59fK9pNZCm/D/YQ7GUA+8+4XP7vMkMq9WJWGvp5N1rpVKBVlJRnD0PKx791imsYCW/wayQrtDr/KP2XpdlC29IyqZCRHvZbRthQ7elRuvRVCUVAR47Iio62N8YKhgY8Q0h9U5ONKKRmGTqO2beCU66cgY5PI6V4hrqjNUeBTRT8l44CAOrTMbhoAsxgOo8GGYeGrB9WTztwKbXomKUncMTvHc3omYi7EJLL5v7TtsXRuzvnXngPCyICaDoZCQTpOSMv+cg8EwKplluHlCamDCAMiiPndnYHbG5x7/9mCJg/X2DAPdr31sKArWcQMPuLCmZsMP1dsrlREfwGyyD1N537qS5GnMFtL2YscIg83oah8WTFQg0FhDIxK9+//PiUL6bmA9HDU54yYP4ae8h4uOPYE9LuvXF4KVb3M99CZGBzYf0tJX9tClyR7Puuxs0tTsGONpPvk6pdjM3WoK60m08f3TP+hVrFjWITU0jSCuAh2mgVceS/ZhhPvhJusGRxXzMPis0IfZY+8RSEdcPeWhKqDA2wOjcdnQ== you@example.com\n"
          ]
        }
      ]
    },
    {
      "cell_type": "code",
      "source": [
        "!ssh-keyscan github.com >> ~/.ssh/known_hosts"
      ],
      "metadata": {
        "colab": {
          "base_uri": "https://localhost:8080/"
        },
        "id": "3w2K_XbR9IK5",
        "outputId": "8546814e-0169-42b7-d69e-b2dc56b0e6cc"
      },
      "execution_count": 40,
      "outputs": [
        {
          "output_type": "stream",
          "name": "stdout",
          "text": [
            "# github.com:22 SSH-2.0-48ecf9ce5\n",
            "# github.com:22 SSH-2.0-48ecf9ce5\n",
            "# github.com:22 SSH-2.0-48ecf9ce5\n",
            "# github.com:22 SSH-2.0-48ecf9ce5\n",
            "# github.com:22 SSH-2.0-48ecf9ce5\n"
          ]
        }
      ]
    },
    {
      "cell_type": "code",
      "source": [
        "!ssh -T git@github.com"
      ],
      "metadata": {
        "colab": {
          "base_uri": "https://localhost:8080/"
        },
        "id": "M-7CxY_j9Um4",
        "outputId": "0958d979-8c4d-46c6-a327-00812fd4d4f4"
      },
      "execution_count": 41,
      "outputs": [
        {
          "output_type": "stream",
          "name": "stdout",
          "text": [
            "Hi chrisdollo! You've successfully authenticated, but GitHub does not provide shell access.\n"
          ]
        }
      ]
    },
    {
      "cell_type": "code",
      "source": [
        "!ssh-add -l\n"
      ],
      "metadata": {
        "colab": {
          "base_uri": "https://localhost:8080/"
        },
        "id": "14Ltao6i9XNi",
        "outputId": "2e6bc37a-b313-4ae3-ccbf-6300ce6ac69d"
      },
      "execution_count": 42,
      "outputs": [
        {
          "output_type": "stream",
          "name": "stdout",
          "text": [
            "Could not open a connection to your authentication agent.\n"
          ]
        }
      ]
    },
    {
      "cell_type": "code",
      "source": [
        "!git remote set-url origin git@github.com:limi900/BoozAllen.git\n"
      ],
      "metadata": {
        "id": "0NKze21C9h-a"
      },
      "execution_count": 43,
      "outputs": []
    },
    {
      "cell_type": "code",
      "source": [],
      "metadata": {
        "id": "Hn3nrHrJ9zM8"
      },
      "execution_count": null,
      "outputs": []
    }
  ]
}